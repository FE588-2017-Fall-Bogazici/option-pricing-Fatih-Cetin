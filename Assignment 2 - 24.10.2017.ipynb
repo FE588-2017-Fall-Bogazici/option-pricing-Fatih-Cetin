{
 "cells": [
  {
   "cell_type": "code",
   "execution_count": 1,
   "metadata": {},
   "outputs": [
    {
     "name": "stdout",
     "output_type": "stream",
     "text": [
      "S0\tstock price at time 0: 100\n",
      "K\tstrike price: 120\n",
      "r\tcontinuously compounded risk-free rate: 0.05\n",
      "sigma\tvolatility of the stock price per year: 0.05\n",
      "T\ttime to maturity in trading years: 1\n",
      "c_BS\tBlack-Scholes price: 0.00673727281915 0.0009999275207519531\n"
     ]
    }
   ],
   "source": [
    "##Option Pricing - Black Scholes\n",
    "r=0.05\n",
    "S0=100\n",
    "K=120\n",
    "sigma=0.05\n",
    "T=1\n",
    "\n",
    "import numpy as np\n",
    "import scipy.stats as ss\n",
    "import time \n",
    "\n",
    "#Black and Scholes\n",
    "def d1(S0, K, r, sigma, T):\n",
    "    return (np.log(S0/K) + (r + sigma**2 / 2) * T)/(sigma * np.sqrt(T))\n",
    " \n",
    "def d2(S0, K, r, sigma, T):\n",
    "    return (np.log(S0/K) + (r - sigma**2 / 2) * T) / (sigma * np.sqrt(T))\n",
    " \n",
    "def BlackScholes(type,S0, K, r, sigma, T):\n",
    "    if type==\"C\":\n",
    "        return S0 * ss.norm.cdf(d1(S0, K, r, sigma, T)) - K * np.exp(-r * T) * ss.norm.cdf(d2(S0, K, r, sigma, T))\n",
    "    else:\n",
    "        return K * np.exp(-r * T) * ss.norm.cdf(-d2(S0, K, r, sigma, T)) - S0 * ss.norm.cdf(-d1(S0, K, r, sigma, T))\n",
    "\n",
    "\n",
    "r=0.05\n",
    "S0=100\n",
    "K=120\n",
    "sigma=0.05\n",
    "T=1\n",
    "    \n",
    "Otype='C'\n",
    "\n",
    "print (\"S0\\tstock price at time 0:\", S0)\n",
    "print (\"K\\tstrike price:\", K)\n",
    "print (\"r\\tcontinuously compounded risk-free rate:\", r)\n",
    "print (\"sigma\\tvolatility of the stock price per year:\", sigma)\n",
    "print (\"T\\ttime to maturity in trading years:\", T)\n",
    "\n",
    "\n",
    "t=time.time()\n",
    "c_BS = BlackScholes(Otype,S0, K, r, sigma, T)\n",
    "elapsed=time.time()-t\n",
    "print (\"c_BS\\tBlack-Scholes price:\", c_BS, elapsed)"
   ]
  },
  {
   "cell_type": "code",
   "execution_count": 4,
   "metadata": {},
   "outputs": [
    {
     "name": "stdout",
     "output_type": "stream",
     "text": [
      "S0\tstock price at time 0: 100\n",
      "K\tstrike price: 120\n",
      "r\tcontinuously compounded risk-free rate: 0.05\n",
      "sigma\tvolatility of the stock price per year: 0.05\n",
      "T\ttime to maturity in trading years: 1\n",
      "Call price =  0.00644077717855\n",
      "Put price =  14.1641237599\n"
     ]
    }
   ],
   "source": [
    "##Option Pricing\n",
    "import numpy as np\n",
    "\n",
    "r=0.05\n",
    "S0=100\n",
    "K=120\n",
    "sigma=0.05\n",
    "T=1\n",
    "\n",
    "np.random.randn()\n",
    "\n",
    "N=100000\n",
    "\n",
    "C=0\n",
    "P=0\n",
    "for i in range(N):\n",
    "    WT=np.random.randn()*np.sqrt(T)\n",
    "    ST=S0*np.exp((r-0.5*sigma**2)*T + sigma*WT)\n",
    "    C += max(0, ST-K)\n",
    "    P += max(0,K-ST)\n",
    "    \n",
    "call_price = (C/N)*np.exp(-r*T)\n",
    "put_price = (P/N)*np.exp(-r*T)\n",
    "\n",
    "\n",
    "print (\"S0\\tstock price at time 0:\", S0)\n",
    "print (\"K\\tstrike price:\", K)\n",
    "print (\"r\\tcontinuously compounded risk-free rate:\", r)\n",
    "print (\"sigma\\tvolatility of the stock price per year:\", sigma)\n",
    "print (\"T\\ttime to maturity in trading years:\", T)\n",
    "print('Call price = ', call_price)\n",
    "print('Put price = ', put_price)"
   ]
  },
  {
   "cell_type": "code",
   "execution_count": 5,
   "metadata": {},
   "outputs": [
    {
     "name": "stdout",
     "output_type": "stream",
     "text": [
      "S0\tstock price at time 0: 100\n",
      "K\tstrike price: 110\n",
      "r\tcontinuously compounded risk-free rate: 0.05\n",
      "sigma\tvolatility of the stock price per year: 0.01\n",
      "T\ttime to maturity in trading years: 1\n",
      "Asian\n",
      "Call price =  0.0\n",
      "Put price =  0.000827825093393\n"
     ]
    }
   ],
   "source": [
    "##Option Pricing - Asian\n",
    "import numpy as np\n",
    "\n",
    "r=0.05\n",
    "S0=100\n",
    "K=110\n",
    "sigma=0.01\n",
    "T=1\n",
    "\n",
    "np.random.randn()\n",
    "\n",
    "EPOCH=100000\n",
    "N=12\n",
    "\n",
    "C=0\n",
    "P=0\n",
    "for i in range(N):\n",
    "    S_bar=0\n",
    "    S=S0\n",
    "    for j in range(N):\n",
    "        WT=np.random.randn()*np.sqrt(T/N)\n",
    "        S=S*np.exp((r-0.5*sigma**2)*(T/N) + sigma*WT)\n",
    "        S_bar += S\n",
    "    S_bar /= N    \n",
    "    C += max(0,S_bar-K)\n",
    "    P += max(0,K-S_bar)\n",
    "    \n",
    "call_price = (C/EPOCH)*np.exp(-r*T)\n",
    "put_price = (P/EPOCH)*np.exp(-r*T)\n",
    "\n",
    "print (\"S0\\tstock price at time 0:\", S0)\n",
    "print (\"K\\tstrike price:\", K)\n",
    "print (\"r\\tcontinuously compounded risk-free rate:\", r)\n",
    "print (\"sigma\\tvolatility of the stock price per year:\", sigma)\n",
    "print (\"T\\ttime to maturity in trading years:\", T)\n",
    "print('Asian')\n",
    "print('Call price = ', call_price)\n",
    "print('Put price = ', put_price)"
   ]
  },
  {
   "cell_type": "code",
   "execution_count": 1,
   "metadata": {},
   "outputs": [
    {
     "name": "stdout",
     "output_type": "stream",
     "text": [
      "Lookback\n",
      "Call Price: 0.627342163989\n",
      "Put Price: 10.3984448291\n"
     ]
    }
   ],
   "source": [
    "#Lookback call put option pricing\n",
    "import numpy as np\n",
    "\n",
    "S0=100\n",
    "sigma=0.05\n",
    "r=0.05\n",
    "K=110\n",
    "T=1\n",
    "EPOCH=10000\n",
    "N=12\n",
    "C=0\n",
    "P=0\n",
    "for i in range(EPOCH):\n",
    "    S_list=[]\n",
    "    S=S0\n",
    "    for j in range(N):    \n",
    "        WT=np.random.randn()*np.sqrt(T/N)\n",
    "        S=S*np.exp((r-0.5*sigma**2)*(T/N)+sigma*WT)\n",
    "        S_list.append(S)\n",
    "        \n",
    "    C+= max(0, max(S_list)-K)\n",
    "    P+= max(0, K-min(S_list))\n",
    "print('Lookback')    \n",
    "call_price=(C/EPOCH)*np.exp(-r*T)\n",
    "put_price=(P/EPOCH)*np.exp(-r*T)\n",
    "print ('Call Price:', call_price)\n",
    "print ('Put Price:', put_price)"
   ]
  },
  {
   "cell_type": "code",
   "execution_count": 6,
   "metadata": {},
   "outputs": [
    {
     "name": "stdout",
     "output_type": "stream",
     "text": [
      "S0\tstock price at time 0: 100\n",
      "K\tstrike price: 110\n",
      "r\tcontinuously compounded risk-free rate: 0.05\n",
      "sigma\tvolatility of the stock price per year: 0.01\n",
      "T\ttime to maturity in trading years: 1\n",
      "Floating Lookback\n",
      "Call price =  0.0\n",
      "Put price =  0.000838411947865\n"
     ]
    }
   ],
   "source": [
    "##Option Pricing - Floating Lookback - ödevvv\n",
    "\n",
    "import numpy as np\n",
    "\n",
    "r=0.05\n",
    "S0=100\n",
    "K=110\n",
    "sigma=0.01\n",
    "T=1\n",
    "\n",
    "np.random.randn()\n",
    "\n",
    "EPOCH=100000\n",
    "N=12\n",
    "\n",
    "C=0\n",
    "P=0\n",
    "for i in range(N):\n",
    "    S_bar=0\n",
    "    S=S0\n",
    "    for j in range(N):\n",
    "        WT=np.random.randn()*np.sqrt(T/N)\n",
    "        S=S*np.exp((r-0.5*sigma**2)*(T/N) + sigma*WT)\n",
    "        S_bar += S\n",
    "    S_bar /= N    \n",
    "    C += max(0,S_bar-K)\n",
    "    P += max(0,K-S_bar)\n",
    "    \n",
    "call_price = (C/EPOCH)*np.exp(-r*T)\n",
    "put_price = (P/EPOCH)*np.exp(-r*T)\n",
    "\n",
    "print (\"S0\\tstock price at time 0:\", S0)\n",
    "print (\"K\\tstrike price:\", K)\n",
    "print (\"r\\tcontinuously compounded risk-free rate:\", r)\n",
    "print (\"sigma\\tvolatility of the stock price per year:\", sigma)\n",
    "print (\"T\\ttime to maturity in trading years:\", T)\n",
    "print('Floating Lookback')\n",
    "print('Call price = ', call_price)\n",
    "print('Put price = ', put_price)"
   ]
  }
 ],
 "metadata": {
  "kernelspec": {
   "display_name": "Python 3",
   "language": "python",
   "name": "python3"
  },
  "language_info": {
   "codemirror_mode": {
    "name": "ipython",
    "version": 3
   },
   "file_extension": ".py",
   "mimetype": "text/x-python",
   "name": "python",
   "nbconvert_exporter": "python",
   "pygments_lexer": "ipython3",
   "version": "3.6.2"
  }
 },
 "nbformat": 4,
 "nbformat_minor": 2
}
